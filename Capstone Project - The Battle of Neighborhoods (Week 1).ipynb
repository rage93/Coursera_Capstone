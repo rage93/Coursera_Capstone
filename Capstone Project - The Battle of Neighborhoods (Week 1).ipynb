{
 "cells": [
  {
   "cell_type": "markdown",
   "metadata": {},
   "source": [
    "# The Battle of Neighborhoods (Week 1)"
   ]
  },
  {
   "cell_type": "markdown",
   "metadata": {},
   "source": [
    "## Introduction & Business Problem :"
   ]
  },
  {
   "attachments": {},
   "cell_type": "markdown",
   "metadata": {},
   "source": [
    "### Introduction>>\n",
    "\n",
    "The Country Venezuela is a magic country to go for vacations because have a wonderfull places to do turism like the most beatifull beachs, desert, Angel Falls, and the people is amazing! so for the new visitors would be great to know where is the city to stay in the vacations with the most density of people in the hospitals because that represent the hospital have higher health standards.  \n",
    "\n",
    "\n",
    "About Cities hospitals:    Hospitals that meet the highest levels of health are being sought\n",
    "The highest quality of healthcare service, innovative medical-surgical treatments, and recognized capacity in scientific research in the healthcare area.\n",
    "The greater capacity of response to variations in the environment to continue offering an optimal health service.\n",
    "The best and highest integrated functionality of engineering as support, support and vehicle for service and administration.\n",
    "The most transparent, solid, and efficient management of material and financial resources that consolidate our management!"
   ]
  },
  {
   "attachments": {},
   "cell_type": "markdown",
   "metadata": {},
   "source": [
    "### Business Problem>>\n",
    "\n",
    "The cities in Venezuela have problem with the density of they hospital standars so with this analysis the visitors can know how is that density and how close are the hospital in the cities, to pick the best location for go to vacations!\n",
    "\n",
    "## Interested Business:\n",
    "The proyect can be used for promoted specific hospital and for insurers with they clients, to send more specific sick to th hospital with the treatment!\n",
    "\n",
    "## Target audience:\n",
    "\n",
    "Every pearson who want visit Venezuela with the most standars of safety.\n",
    "  \n",
    "  \n",
    "  "
   ]
  },
  {
   "attachments": {},
   "cell_type": "markdown",
   "metadata": {},
   "source": [
    "## Data\n",
    "\n",
    "For this study the principal data colector would be from www.foursquare.com with the API who provide all the information of the hospital in Venezuela and is a good start point to know the density and the distance between the city and the hospital.\n",
    "\n",
    "This model Will predict trow the time always witch is the best hospital by the density of population and by the distance from the middle of the city.\n"
   ]
  },
  {
   "cell_type": "code",
   "execution_count": null,
   "metadata": {},
   "outputs": [],
   "source": []
  },
  {
   "cell_type": "code",
   "execution_count": null,
   "metadata": {},
   "outputs": [],
   "source": []
  },
  {
   "cell_type": "code",
   "execution_count": null,
   "metadata": {},
   "outputs": [],
   "source": []
  }
 ],
 "metadata": {
  "kernelspec": {
   "display_name": "Python 3",
   "language": "python",
   "name": "python3"
  },
  "language_info": {
   "codemirror_mode": {
    "name": "ipython",
    "version": 3
   },
   "file_extension": ".py",
   "mimetype": "text/x-python",
   "name": "python",
   "nbconvert_exporter": "python",
   "pygments_lexer": "ipython3",
   "version": "3.6.10"
  }
 },
 "nbformat": 4,
 "nbformat_minor": 4
}
